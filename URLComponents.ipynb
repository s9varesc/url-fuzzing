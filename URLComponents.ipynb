{
 "cells": [
  {
   "cell_type": "markdown",
   "metadata": {},
   "source": [
    "# Obtaining URL components"
   ]
  },
  {
   "cell_type": "markdown",
   "metadata": {},
   "source": [
    "In order to get a component-wise URL representation as necessary for the verification of parsed URLs, one can use [tribble](https://github.com/havrikov/tribble/tree/7797acd8801e48cbedb86485032f577cee8ea94c) with a few additions.\n",
    "In detail these additions consist of\n",
    "\n",
    "* the class **DictExtractor** which given a list of component names to look for, searches the parse tree for these components and returns a string containing all components as well as their content contained in the parse tree\n",
    "\n",
    "* the abstract class **ComponentsBuilder** which serves as blueprint for actual implementations and additionally contains a list of components to search for and thus is closely related to the grammar beeing used \n",
    "\n",
    "* the class **FirefoxURLComponentsBuilder** which creates a mapping between the component names used in the grammar and the component names used by a parser (here the firefox parser), additionally this class takes care of the formatting of the final string representation of components and their content\n",
    "\n",
    "* an addition to **tasks** in the execution package, that calls `dictExtractor.extract(tree)` and writes the resulting string into a file"
   ]
  },
  {
   "cell_type": "markdown",
   "metadata": {},
   "source": [
    "These are some example outputs aimed at firefox generated with the URL grammar that comes with tribble:"
   ]
  },
  {
   "cell_type": "markdown",
   "metadata": {},
   "source": [
    "{scheme:\"ftp://\",pathQueryRef:\"/\",host:\"8.2.28.48926\",hostPort:\"8.2.28.48926\",spec:\"ftp://8.2.28.48926/;ET\"}"
   ]
  },
  {
   "cell_type": "markdown",
   "metadata": {},
   "source": [
    "{scheme:\"gopher://\",host:\"9.80.4.54\",hostPort:\"9.80.4.54\",spec:\"gopher://9.80.4.54/!\"}"
   ]
  },
  {
   "cell_type": "markdown",
   "metadata": {},
   "source": [
    "{scheme:\"ftp://\",pathQueryRef:\"/6\",host:\"2.03.19.7\",hostPort:\"2.03.19.7\",spec:\"ftp://2.03.19.7/6\"}"
   ]
  },
  {
   "cell_type": "markdown",
   "metadata": {},
   "source": [
    "_**Note**_: due to the complexity of the included grammar not all special features of each scheme are represented accordingly (see the \";ET\" part in the first example, or the \"!\" in the second example. Once a URL grammar to be used is fixed, all special features will be represented accordingly."
   ]
  }
 ],
 "metadata": {
  "kernelspec": {
   "display_name": "Python 3",
   "language": "python",
   "name": "python3"
  },
  "language_info": {
   "codemirror_mode": {
    "name": "ipython",
    "version": 3
   },
   "file_extension": ".py",
   "mimetype": "text/x-python",
   "name": "python",
   "nbconvert_exporter": "python",
   "pygments_lexer": "ipython3",
   "version": "3.7.0"
  }
 },
 "nbformat": 4,
 "nbformat_minor": 2
}
