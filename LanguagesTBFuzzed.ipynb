{
 "cells": [
  {
   "cell_type": "markdown",
   "metadata": {},
   "source": [
    "# Programming Languages to be Fuzzed"
   ]
  },
  {
   "cell_type": "markdown",
   "metadata": {},
   "source": [
    "Listed below are programming languages chosen from the top 20 programming languages listed at [PYPL](http://pypl.github.io/PYPL.html). Furthermore this list includes the URL parser to be used as well as a coverage tool."
   ]
  },
  {
   "cell_type": "markdown",
   "metadata": {},
   "source": [
    "| Language | URL Parser   | Coverage Tool | Example Report|\n",
    "|----------|--------------|---------------|---------------|\n",
    "| Java     | [java.net.URL](https://docs.oracle.com/javase/7/docs/api/java/net/URL.html)| [JCov](https://wiki.openjdk.java.net/display/CodeTools/JCov+FAQ)|[Report](https://rawgit.com/s9varesc/url-fuzzing/blob/master/languagefuzzing/JavaCoverage/reportExample/index.html)|\n",
    "| Python   | [urllib.parse](https://docs.python.org/3/library/urllib.parse.html)| [coverage.py](https://pypi.org/project/coverage/)|---------------|\n",
    "| C        | [uriparser](https://uriparser.github.io/)| [Gcov](https://gcc.gnu.org/onlinedocs/gcc/Gcov.html)|---------------|\n",
    "| C++      | [Poco:URI](https://pocoproject.org/docs/Poco.URI.html)| [Gcov](https://gcc.gnu.org/onlinedocs/gcc/Gcov.html)|---------------|\n",
    "| JavaScript| [URL object](https://developer.mozilla.org/en-US/docs/Web/API/URL)| [JSCover](https://tntim96.github.io/JSCover/)|---------------|\n",
    "| PHP      | [parse_url()](https://www.php.net/manual/en/function.parse-url.php)| [PHPUnit](https://phpunit.readthedocs.io/en/8.5/code-coverage-analysis.html)|---------------|\n",
    "| Ruby     | [URI::Parser](https://docs.ruby-lang.org/en/2.1.0/URI/Parser.html)| built in, [SimpleCov](https://github.com/colszowka/simplecov)|---------------|\n",
    "| Go       | [url.parse()](https://golang.org/pkg/net/url/)| [cover](https://golang.org/cmd/cover/)|---------------|"
   ]
  },
  {
   "cell_type": "markdown",
   "metadata": {},
   "source": [
    "*Note:* Before any language/parser combination can be considered for fuzzing a basic parser and coverage usability test should be performed."
   ]
  },
  {
   "cell_type": "markdown",
   "metadata": {},
   "source": [
    "## URL Parser and Coverage Usability Test"
   ]
  },
  {
   "cell_type": "markdown",
   "metadata": {},
   "source": [
    "- set up language environment with URL parser and coverage tool\n",
    "- use selected [example URLs]() and translate accordingly (*note:* this step should provide ideas for automated translation, as required for real test URLs)\n",
    "- run the translated examples and obtain coverage for the used URL parser"
   ]
  },
  {
   "cell_type": "markdown",
   "metadata": {},
   "source": [
    "As a result there should be a minimal working example for each language/parser/coverage tool combination which is considered for fuzzing."
   ]
  }
 ],
 "metadata": {
  "kernelspec": {
   "display_name": "Python 3",
   "language": "python",
   "name": "python3"
  },
  "language_info": {
   "codemirror_mode": {
    "name": "ipython",
    "version": 3
   },
   "file_extension": ".py",
   "mimetype": "text/x-python",
   "name": "python",
   "nbconvert_exporter": "python",
   "pygments_lexer": "ipython3",
   "version": "3.7.0"
  }
 },
 "nbformat": 4,
 "nbformat_minor": 2
}
